{
 "cells": [
  {
   "cell_type": "code",
   "execution_count": 1,
   "metadata": {},
   "outputs": [],
   "source": [
    "import os\n",
    "import pandas as pd\n",
    "import numpy as np\n",
    "import matplotlib.pyplot as plt\n",
    "import seaborn as sns\n",
    "\n",
    "# Suppress all warnings\n",
    "import warnings\n",
    "warnings.filterwarnings('ignore')"
   ]
  },
  {
   "cell_type": "code",
   "execution_count": 3,
   "metadata": {},
   "outputs": [],
   "source": [
    "ameriplex = pd.read_csv(r\"..\\..\\DataScience\\CleanedData\\without_imputed_values\\ameriplex.csv\")\n",
    "ameriplex_fuel = pd.read_csv(r\"..\\..\\DataScience\\CleanedData\\without_imputed_values\\ameriplex_fuel.csv\")\n",
    "ameriplex.set_index(\"Product Name\", inplace=True)\n",
    "ameriplex_fuel.set_index(\"Product Name\", inplace=True)\n"
   ]
  },
  {
   "cell_type": "code",
   "execution_count": 4,
   "metadata": {},
   "outputs": [],
   "source": [
    "data = pd.DataFrame()\n",
    "data[\"Inside Sales\"] = ameriplex.iloc[-1]\n",
    "data[\"Gas Sales\"] = ameriplex_fuel.iloc[-1]"
   ]
  },
  {
   "cell_type": "code",
   "execution_count": 13,
   "metadata": {},
   "outputs": [
    {
     "data": {
      "text/html": [
       "<div>\n",
       "<style scoped>\n",
       "    .dataframe tbody tr th:only-of-type {\n",
       "        vertical-align: middle;\n",
       "    }\n",
       "\n",
       "    .dataframe tbody tr th {\n",
       "        vertical-align: top;\n",
       "    }\n",
       "\n",
       "    .dataframe thead th {\n",
       "        text-align: right;\n",
       "    }\n",
       "</style>\n",
       "<table border=\"1\" class=\"dataframe\">\n",
       "  <thead>\n",
       "    <tr style=\"text-align: right;\">\n",
       "      <th></th>\n",
       "      <th>duration</th>\n",
       "      <th>correlation</th>\n",
       "    </tr>\n",
       "  </thead>\n",
       "  <tbody>\n",
       "    <tr>\n",
       "      <th>0</th>\n",
       "      <td>3M</td>\n",
       "      <td>0.840784</td>\n",
       "    </tr>\n",
       "    <tr>\n",
       "      <th>1</th>\n",
       "      <td>6M</td>\n",
       "      <td>0.977027</td>\n",
       "    </tr>\n",
       "    <tr>\n",
       "      <th>2</th>\n",
       "      <td>1Y</td>\n",
       "      <td>0.932546</td>\n",
       "    </tr>\n",
       "    <tr>\n",
       "      <th>3</th>\n",
       "      <td>2Y</td>\n",
       "      <td>0.953336</td>\n",
       "    </tr>\n",
       "  </tbody>\n",
       "</table>\n",
       "</div>"
      ],
      "text/plain": [
       "  duration  correlation\n",
       "0       3M     0.840784\n",
       "1       6M     0.977027\n",
       "2       1Y     0.932546\n",
       "3       2Y     0.953336"
      ]
     },
     "execution_count": 13,
     "metadata": {},
     "output_type": "execute_result"
    }
   ],
   "source": [
    "df = pd.DataFrame(data)\n",
    "\n",
    "# Dropping NaN values since the second dataset starts from July 2023\n",
    "df.dropna(inplace=True)\n",
    "\n",
    "# Computing correlation\n",
    "correlation_3M = df.iloc[-3:][\"Inside Sales\"].corr(df.iloc[-3:][\"Gas Sales\"])\n",
    "correlation_6M = df.iloc[-6:][\"Inside Sales\"].corr(df.iloc[-6:][\"Gas Sales\"])\n",
    "correlation_1Y = df.iloc[-12:][\"Inside Sales\"].corr(df.iloc[-12:][\"Gas Sales\"])\n",
    "correlation_2Y = df.iloc[-24:][\"Inside Sales\"].corr(df.iloc[-24:][\"Gas Sales\"])\n",
    "\n",
    "pd.DataFrame({\"duration\": [\"3M\", \"6M\", \"1Y\", \"2Y\"], \"correlation\": [correlation_3M, correlation_6M, correlation_1Y, correlation_2Y]})\n"
   ]
  },
  {
   "cell_type": "markdown",
   "metadata": {},
   "source": []
  }
 ],
 "metadata": {
  "kernelspec": {
   "display_name": "base",
   "language": "python",
   "name": "python3"
  },
  "language_info": {
   "codemirror_mode": {
    "name": "ipython",
    "version": 3
   },
   "file_extension": ".py",
   "mimetype": "text/x-python",
   "name": "python",
   "nbconvert_exporter": "python",
   "pygments_lexer": "ipython3",
   "version": "3.12.7"
  }
 },
 "nbformat": 4,
 "nbformat_minor": 2
}

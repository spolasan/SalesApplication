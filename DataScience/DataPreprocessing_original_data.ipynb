{
 "cells": [
  {
   "cell_type": "code",
   "execution_count": 8,
   "id": "fa92d7c7-e73e-4164-b232-f749307cbc3b",
   "metadata": {},
   "outputs": [],
   "source": [
    "import os\n",
    "import pandas as pd\n",
    "import warnings\n",
    "\n",
    "# Suppress all warnings\n",
    "warnings.filterwarnings('ignore')\n",
    "\n",
    "# Get a list of all files in the \"data\" directory\n",
    "files = os.listdir(\"Data_original\\Sales analysis actual data\")\n"
   ]
  },
  {
   "cell_type": "code",
   "execution_count": 142,
   "id": "b9b2fd04",
   "metadata": {},
   "outputs": [],
   "source": [
    "def clean_and_save_dataframe(file_name: str, df: pd.DataFrame, dropna_thresh: int = 40, drop_rows: list = [0, 50]) -> pd.DataFrame:\n",
    "    \"\"\"\n",
    "    Cleans a given DataFrame by performing the following operations:\n",
    "    - Drops columns with missing values below a threshold.\n",
    "    - Drops specific rows by index.\n",
    "    - Renames the first column to \"Product Name\".\n",
    "    - Removes digits from the \"Product Name\" column and strips whitespace.\n",
    "    - Sets \"Product Name\" as the index.\n",
    "\n",
    "    Parameters:\n",
    "    df (pd.DataFrame): Input DataFrame to be cleaned.\n",
    "    dropna_thresh (int): Minimum number of non-NA values required to keep a column.\n",
    "    drop_rows (list): List of row indices to drop.\n",
    "\n",
    "    Returns:\n",
    "    pd.DataFrame: Cleaned DataFrame.\n",
    "    \"\"\"\n",
    "    print(f\"Cleaning {file_name}......................\")\n",
    "    print(f\"Original shape: {df.shape}\")\n",
    "    df = df.dropna(axis=1, thresh=dropna_thresh)\n",
    "    print(f\"Shape after dropping columns with less than {dropna_thresh} non-NA values: {df.shape}\")\n",
    "    df = df.drop(drop_rows, errors='ignore')  # Ignore errors if row index doesn't exist\n",
    "    print(f\"Shape after dropping rows {drop_rows}: {df.shape}\")\n",
    "    df.rename(columns={df.columns[0]: \"Product Name\"}, inplace=True)\n",
    "    df[\"Product Name\"] = df[\"Product Name\"].str.replace(r'^\\d+', '', regex=True).str.strip()\n",
    "    df.set_index(\"Product Name\", inplace=True)\n",
    "    print(f\"Final shape after setting 'Product Name' as index: {df.shape}\\n\\n\")\n",
    "    df.columns = pd.to_datetime(df.columns).strftime('%B %Y')\n",
    "\n",
    "    # Save the cleaned DataFrame to a new csv file\n",
    "    df.to_csv(f\"CleanedData\\without_imputed_values\\{file_name}.csv\")\n",
    "\n",
    "    return df"
   ]
  },
  {
   "cell_type": "code",
   "execution_count": 144,
   "id": "4b5c078a",
   "metadata": {},
   "outputs": [
    {
     "name": "stdout",
     "output_type": "stream",
     "text": [
      "Cleaning rolling_prairie......................\n",
      "Original shape: (51, 30)\n",
      "Shape after dropping columns with less than 40 non-NA values: (51, 26)\n",
      "Shape after dropping rows [0, 50]: (49, 26)\n",
      "Final shape after setting 'Product Name' as index: (49, 25)\n",
      "\n",
      "\n",
      "Cleaning fail_road......................\n",
      "Original shape: (50, 30)\n",
      "Shape after dropping columns with less than 40 non-NA values: (50, 26)\n",
      "Shape after dropping rows [0, 50]: (49, 26)\n",
      "Final shape after setting 'Product Name' as index: (49, 25)\n",
      "\n",
      "\n",
      "Cleaning ameriplex......................\n",
      "Original shape: (52, 30)\n",
      "Shape after dropping columns with less than 40 non-NA values: (52, 26)\n",
      "Shape after dropping rows [0, 50]: (50, 26)\n",
      "Final shape after setting 'Product Name' as index: (50, 25)\n",
      "\n",
      "\n",
      "Cleaning winona......................\n",
      "Original shape: (50, 30)\n",
      "Shape after dropping columns with less than 40 non-NA values: (50, 18)\n",
      "Shape after dropping rows [0, 50]: (49, 18)\n",
      "Final shape after setting 'Product Name' as index: (49, 17)\n",
      "\n",
      "\n",
      "Cleaning ameriplex_fuel......................\n",
      "Original shape: (8, 22)\n",
      "Shape after dropping columns with less than 7 non-NA values: (8, 19)\n",
      "Shape after dropping rows [0]: (7, 19)\n",
      "Final shape after setting 'Product Name' as index: (7, 18)\n",
      "\n",
      "\n"
     ]
    }
   ],
   "source": [
    "rolling_prairie = pd.read_excel(os.path.join(\"Data_original\\Sales analysis actual data\", files[0]), skiprows=4)\n",
    "fail_road = pd.read_excel(os.path.join(\"Data_original\\Sales analysis actual data\", files[1]), skiprows=4)\n",
    "ameriplex = pd.read_excel(os.path.join(\"Data_original\\Sales analysis actual data\", files[2]), skiprows=4)\n",
    "winona = pd.read_excel(os.path.join(\"Data_original\\Sales analysis actual data\", files[3]), skiprows=4)\n",
    "ameriplex_fuel = pd.read_excel(os.path.join(\"Data_original\\Sales analysis actual data\", files[4]), skiprows=4)\n",
    "\n",
    "\n",
    "\n",
    "\n",
    "\n",
    "\n",
    "rolling_prairie = clean_and_save_dataframe(\"rolling_prairie\", rolling_prairie)\n",
    "fail_road = clean_and_save_dataframe(\"fail_road\", fail_road)\n",
    "ameriplex = clean_and_save_dataframe(\"ameriplex\", ameriplex)\n",
    "winona = clean_and_save_dataframe(\"winona\", winona)\n",
    "ameriplex_fuel = clean_and_save_dataframe(\"ameriplex_fuel\", ameriplex_fuel, dropna_thresh=7, drop_rows=[0])\n"
   ]
  },
  {
   "cell_type": "code",
   "execution_count": null,
   "id": "8935bb9a",
   "metadata": {},
   "outputs": [],
   "source": []
  }
 ],
 "metadata": {
  "kernelspec": {
   "display_name": "base",
   "language": "python",
   "name": "python3"
  },
  "language_info": {
   "codemirror_mode": {
    "name": "ipython",
    "version": 3
   },
   "file_extension": ".py",
   "mimetype": "text/x-python",
   "name": "python",
   "nbconvert_exporter": "python",
   "pygments_lexer": "ipython3",
   "version": "3.12.7"
  }
 },
 "nbformat": 4,
 "nbformat_minor": 5
}

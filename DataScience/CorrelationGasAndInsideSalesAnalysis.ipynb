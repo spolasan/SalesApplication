{
 "cells": [
  {
   "cell_type": "code",
   "execution_count": 16,
   "metadata": {},
   "outputs": [],
   "source": [
    "import os\n",
    "import pandas as pd\n",
    "import numpy as np\n",
    "import matplotlib.pyplot as plt\n",
    "import seaborn as sns\n",
    "\n",
    "# Suppress all warnings\n",
    "import warnings\n",
    "warnings.filterwarnings('ignore')"
   ]
  },
  {
   "cell_type": "code",
   "execution_count": 11,
   "metadata": {},
   "outputs": [],
   "source": [
    "ameriplex = pd.read_csv(r\"CleanedData\\without_imputed_values\\ameriplex.csv\")\n",
    "ameriplex_fuel = pd.read_csv(r\"CleanedData\\without_imputed_values\\ameriplex_fuel.csv\")\n",
    "ameriplex.set_index(\"Product Name\", inplace=True)\n",
    "ameriplex_fuel.set_index(\"Product Name\", inplace=True)\n"
   ]
  },
  {
   "cell_type": "code",
   "execution_count": 13,
   "metadata": {},
   "outputs": [
    {
     "data": {
      "text/plain": [
       "July 2022         439088.81\n",
       "August 2022       425256.19\n",
       "September 2022    386822.44\n",
       "October 2022      394188.47\n",
       "November 2022     397075.12\n",
       "December 2022     359529.39\n",
       "January 2023      357402.86\n",
       "February 2023     334228.22\n",
       "March 2023        384987.36\n",
       "April 2023        375564.67\n",
       "May 2023          420220.90\n",
       "June 2023         412513.35\n",
       "July 2023         476309.08\n",
       "August 2023       462780.41\n",
       "September 2023    421931.01\n",
       "October 2023      425809.58\n",
       "November 2023     379871.90\n",
       "December 2023     374806.50\n",
       "January 2024      345821.86\n",
       "February 2024     347275.69\n",
       "March 2024        378958.28\n",
       "April 2024        379033.20\n",
       "May 2024          410201.48\n",
       "June 2024         402707.43\n",
       "July 2024         426732.13\n",
       "Name: - FE52 AMERIPLEX Total, dtype: float64"
      ]
     },
     "execution_count": 13,
     "metadata": {},
     "output_type": "execute_result"
    }
   ],
   "source": [
    "ameriplex.iloc[-1]"
   ]
  },
  {
   "cell_type": "code",
   "execution_count": 14,
   "metadata": {},
   "outputs": [
    {
     "data": {
      "text/plain": [
       "July 2023         311358.00\n",
       "August 2023       293201.00\n",
       "September 2023    257274.00\n",
       "October 2023      250395.00\n",
       "November 2023     236351.74\n",
       "December 2023     228367.00\n",
       "January 2024      205914.82\n",
       "February 2024     208831.60\n",
       "March 2024        238858.00\n",
       "April 2024        234388.00\n",
       "May 2024          258011.00\n",
       "June 2024         266494.00\n",
       "July 2024         289613.93\n",
       "August 2024       271581.91\n",
       "September 2024    233620.00\n",
       "October 2024      243430.09\n",
       "November 2024     219290.00\n",
       "December 2024     225405.30\n",
       "Name: - FE52 AMERIPLEX Total Gal Sold, dtype: float64"
      ]
     },
     "execution_count": 14,
     "metadata": {},
     "output_type": "execute_result"
    }
   ],
   "source": [
    "ameriplex_fuel.iloc[-1]"
   ]
  },
  {
   "cell_type": "code",
   "execution_count": 17,
   "metadata": {},
   "outputs": [],
   "source": [
    "data = pd.DataFrame()\n",
    "data[\"Inside Sales\"] = ameriplex.iloc[-1]\n",
    "data[\"Gas Sales\"] = ameriplex_fuel.iloc[-1]"
   ]
  },
  {
   "cell_type": "code",
   "execution_count": 18,
   "metadata": {},
   "outputs": [
    {
     "data": {
      "text/html": [
       "<div>\n",
       "<style scoped>\n",
       "    .dataframe tbody tr th:only-of-type {\n",
       "        vertical-align: middle;\n",
       "    }\n",
       "\n",
       "    .dataframe tbody tr th {\n",
       "        vertical-align: top;\n",
       "    }\n",
       "\n",
       "    .dataframe thead th {\n",
       "        text-align: right;\n",
       "    }\n",
       "</style>\n",
       "<table border=\"1\" class=\"dataframe\">\n",
       "  <thead>\n",
       "    <tr style=\"text-align: right;\">\n",
       "      <th></th>\n",
       "      <th>Inside Sales</th>\n",
       "      <th>Gas Sales</th>\n",
       "    </tr>\n",
       "  </thead>\n",
       "  <tbody>\n",
       "    <tr>\n",
       "      <th>July 2022</th>\n",
       "      <td>439088.81</td>\n",
       "      <td>NaN</td>\n",
       "    </tr>\n",
       "    <tr>\n",
       "      <th>August 2022</th>\n",
       "      <td>425256.19</td>\n",
       "      <td>NaN</td>\n",
       "    </tr>\n",
       "    <tr>\n",
       "      <th>September 2022</th>\n",
       "      <td>386822.44</td>\n",
       "      <td>NaN</td>\n",
       "    </tr>\n",
       "    <tr>\n",
       "      <th>October 2022</th>\n",
       "      <td>394188.47</td>\n",
       "      <td>NaN</td>\n",
       "    </tr>\n",
       "    <tr>\n",
       "      <th>November 2022</th>\n",
       "      <td>397075.12</td>\n",
       "      <td>NaN</td>\n",
       "    </tr>\n",
       "    <tr>\n",
       "      <th>December 2022</th>\n",
       "      <td>359529.39</td>\n",
       "      <td>NaN</td>\n",
       "    </tr>\n",
       "    <tr>\n",
       "      <th>January 2023</th>\n",
       "      <td>357402.86</td>\n",
       "      <td>NaN</td>\n",
       "    </tr>\n",
       "    <tr>\n",
       "      <th>February 2023</th>\n",
       "      <td>334228.22</td>\n",
       "      <td>NaN</td>\n",
       "    </tr>\n",
       "    <tr>\n",
       "      <th>March 2023</th>\n",
       "      <td>384987.36</td>\n",
       "      <td>NaN</td>\n",
       "    </tr>\n",
       "    <tr>\n",
       "      <th>April 2023</th>\n",
       "      <td>375564.67</td>\n",
       "      <td>NaN</td>\n",
       "    </tr>\n",
       "    <tr>\n",
       "      <th>May 2023</th>\n",
       "      <td>420220.90</td>\n",
       "      <td>NaN</td>\n",
       "    </tr>\n",
       "    <tr>\n",
       "      <th>June 2023</th>\n",
       "      <td>412513.35</td>\n",
       "      <td>NaN</td>\n",
       "    </tr>\n",
       "    <tr>\n",
       "      <th>July 2023</th>\n",
       "      <td>476309.08</td>\n",
       "      <td>311358.00</td>\n",
       "    </tr>\n",
       "    <tr>\n",
       "      <th>August 2023</th>\n",
       "      <td>462780.41</td>\n",
       "      <td>293201.00</td>\n",
       "    </tr>\n",
       "    <tr>\n",
       "      <th>September 2023</th>\n",
       "      <td>421931.01</td>\n",
       "      <td>257274.00</td>\n",
       "    </tr>\n",
       "    <tr>\n",
       "      <th>October 2023</th>\n",
       "      <td>425809.58</td>\n",
       "      <td>250395.00</td>\n",
       "    </tr>\n",
       "    <tr>\n",
       "      <th>November 2023</th>\n",
       "      <td>379871.90</td>\n",
       "      <td>236351.74</td>\n",
       "    </tr>\n",
       "    <tr>\n",
       "      <th>December 2023</th>\n",
       "      <td>374806.50</td>\n",
       "      <td>228367.00</td>\n",
       "    </tr>\n",
       "    <tr>\n",
       "      <th>January 2024</th>\n",
       "      <td>345821.86</td>\n",
       "      <td>205914.82</td>\n",
       "    </tr>\n",
       "    <tr>\n",
       "      <th>February 2024</th>\n",
       "      <td>347275.69</td>\n",
       "      <td>208831.60</td>\n",
       "    </tr>\n",
       "    <tr>\n",
       "      <th>March 2024</th>\n",
       "      <td>378958.28</td>\n",
       "      <td>238858.00</td>\n",
       "    </tr>\n",
       "    <tr>\n",
       "      <th>April 2024</th>\n",
       "      <td>379033.20</td>\n",
       "      <td>234388.00</td>\n",
       "    </tr>\n",
       "    <tr>\n",
       "      <th>May 2024</th>\n",
       "      <td>410201.48</td>\n",
       "      <td>258011.00</td>\n",
       "    </tr>\n",
       "    <tr>\n",
       "      <th>June 2024</th>\n",
       "      <td>402707.43</td>\n",
       "      <td>266494.00</td>\n",
       "    </tr>\n",
       "    <tr>\n",
       "      <th>July 2024</th>\n",
       "      <td>426732.13</td>\n",
       "      <td>289613.93</td>\n",
       "    </tr>\n",
       "  </tbody>\n",
       "</table>\n",
       "</div>"
      ],
      "text/plain": [
       "                Inside Sales  Gas Sales\n",
       "July 2022          439088.81        NaN\n",
       "August 2022        425256.19        NaN\n",
       "September 2022     386822.44        NaN\n",
       "October 2022       394188.47        NaN\n",
       "November 2022      397075.12        NaN\n",
       "December 2022      359529.39        NaN\n",
       "January 2023       357402.86        NaN\n",
       "February 2023      334228.22        NaN\n",
       "March 2023         384987.36        NaN\n",
       "April 2023         375564.67        NaN\n",
       "May 2023           420220.90        NaN\n",
       "June 2023          412513.35        NaN\n",
       "July 2023          476309.08  311358.00\n",
       "August 2023        462780.41  293201.00\n",
       "September 2023     421931.01  257274.00\n",
       "October 2023       425809.58  250395.00\n",
       "November 2023      379871.90  236351.74\n",
       "December 2023      374806.50  228367.00\n",
       "January 2024       345821.86  205914.82\n",
       "February 2024      347275.69  208831.60\n",
       "March 2024         378958.28  238858.00\n",
       "April 2024         379033.20  234388.00\n",
       "May 2024           410201.48  258011.00\n",
       "June 2024          402707.43  266494.00\n",
       "July 2024          426732.13  289613.93"
      ]
     },
     "execution_count": 18,
     "metadata": {},
     "output_type": "execute_result"
    }
   ],
   "source": [
    "data"
   ]
  },
  {
   "cell_type": "code",
   "execution_count": 20,
   "metadata": {},
   "outputs": [
    {
     "name": "stdout",
     "output_type": "stream",
     "text": [
      "Correlation coefficient: 0.9533\n"
     ]
    },
    {
     "data": {
      "image/png": "[encoded data removed]",
      "text/plain": [
       "<Figure size 1000x500 with 1 Axes>"
      ]
     },
     "metadata": {},
     "output_type": "display_data"
    }
   ],
   "source": [
    "df = pd.DataFrame(data)\n",
    "\n",
    "# Dropping NaN values since the second dataset starts from July 2023\n",
    "df.dropna(inplace=True)\n",
    "\n",
    "# Computing correlation\n",
    "correlation = df[\"Inside Sales\"].corr(df[\"Gas Sales\"])\n",
    "print(f\"Correlation coefficient: {correlation:.4f}\")\n",
    "\n",
    "# Visualizing correlation\n",
    "plt.figure(figsize=(10, 5))\n",
    "sns.regplot(x=df[\"Inside Sales\"], y=df[\"Gas Sales\"], scatter_kws={\"s\": 50}, line_kws={\"color\": \"red\"})\n",
    "plt.xlabel(\"Inside Sales\")\n",
    "plt.ylabel(\"Gas Sales\")\n",
    "plt.title(\"Correlation Analysis between Inside Sales and Gas Sales\")\n",
    "plt.show()\n"
   ]
  },
  {
   "cell_type": "code",
   "execution_count": null,
   "metadata": {},
   "outputs": [],
   "source": []
  }
 ],
 "metadata": {
  "kernelspec": {
   "display_name": "base",
   "language": "python",
   "name": "python3"
  },
  "language_info": {
   "codemirror_mode": {
    "name": "ipython",
    "version": 3
   },
   "file_extension": ".py",
   "mimetype": "text/x-python",
   "name": "python",
   "nbconvert_exporter": "python",
   "pygments_lexer": "ipython3",
   "version": "3.12.7"
  }
 },
 "nbformat": 4,
 "nbformat_minor": 2
}

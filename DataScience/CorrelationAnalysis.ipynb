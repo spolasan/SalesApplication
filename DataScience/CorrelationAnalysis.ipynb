{
 "cells": [
  {
   "cell_type": "code",
   "execution_count": 2,
   "metadata": {},
   "outputs": [],
   "source": [
    "import os\n",
    "import pandas as pd\n",
    "import warnings\n",
    "\n",
    "# Suppress all warnings\n",
    "warnings.filterwarnings('ignore')"
   ]
  },
  {
   "cell_type": "markdown",
   "metadata": {},
   "source": [
    "data = pd.read_csv(os.path.join(\"CleanedData\", \"product_sales_data_with_locations.csv\"))"
   ]
  },
  {
   "cell_type": "code",
   "execution_count": 13,
   "metadata": {},
   "outputs": [],
   "source": [
    "product_sales_data_with_locations = pd.read_csv(os.path.join(\"CleanedData\", \"product_sales_data_with_locations.csv\"))\n",
    "cumulative_sales = pd.read_csv(os.path.join(\"CleanedData\", \"cumulative_sales_cleaned.csv\"))"
   ]
  },
  {
   "cell_type": "code",
   "execution_count": 15,
   "metadata": {},
   "outputs": [
    {
     "data": {
      "text/plain": [
       "array(['Cigarettes', 'Other Tobacco', 'Beer', 'Wine',\n",
       "       'Packaged Beverages-nonalcoh', 'Candy', 'Fluid Milk Products',\n",
       "       'Other Dairy Deli', 'Pkg Sand Other Products',\n",
       "       'Packaged Ice Cream Novelty', 'Frozen Foods',\n",
       "       'Packaged Bread Comm Bakery', 'Salty Snacks',\n",
       "       'Packaged Sweet Snacks', 'Alternative Snacks',\n",
       "       'Fresh Foods - Perish Groc', 'Edible Grocery',\n",
       "       'Non-edible Grocery', 'Health And Beauty Care',\n",
       "       'General Merchandise', 'Publications', 'Automotive Products',\n",
       "       'Store Services Fee Income', 'Store Services Fee Inc Tax',\n",
       "       'Ice Bags', 'Hot Dispensed Beverages', 'Cold Dispensed Beverages',\n",
       "       'Frozen Dispensed Beverages', 'Car Wash Sls',\n",
       "       'Car Wash Vending Sales', 'Chilled Bev Fee', 'Coupons',\n",
       "       'Cravins To Order', 'CTO Ing Shelf Stable',\n",
       "       'Fe Gift Cards Radiant', 'Floral', 'Fresh Bakery',\n",
       "       'Gen Merch Scan Data Sales', 'JW European Cafe',\n",
       "       'Lottery Instant Tickets', 'Lottery ITVM Instant Tickets',\n",
       "       'Lottery Online Sales', 'Manual Fuel Radiant',\n",
       "       'Money Orders Radiant', 'Money Transfers', 'No Scan Merch Radiant',\n",
       "       'Novelty', 'Phone Card Fee', 'Supplies-retail'], dtype=object)"
      ]
     },
     "execution_count": 15,
     "metadata": {},
     "output_type": "execute_result"
    }
   ],
   "source": [
    "cumulative_sales[\"Product Category\"].unique()"
   ]
  },
  {
   "cell_type": "code",
   "execution_count": null,
   "metadata": {},
   "outputs": [],
   "source": []
  },
  {
   "cell_type": "code",
   "execution_count": null,
   "metadata": {},
   "outputs": [],
   "source": []
  },
  {
   "cell_type": "code",
   "execution_count": null,
   "metadata": {},
   "outputs": [],
   "source": []
  }
 ],
 "metadata": {
  "kernelspec": {
   "display_name": "base",
   "language": "python",
   "name": "python3"
  },
  "language_info": {
   "codemirror_mode": {
    "name": "ipython",
    "version": 3
   },
   "file_extension": ".py",
   "mimetype": "text/x-python",
   "name": "python",
   "nbconvert_exporter": "python",
   "pygments_lexer": "ipython3",
   "version": "3.12.7"
  }
 },
 "nbformat": 4,
 "nbformat_minor": 2
}
